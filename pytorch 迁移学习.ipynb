{
 "cells": [
  {
   "cell_type": "code",
   "execution_count": 3,
   "metadata": {},
   "outputs": [],
   "source": [
    "#coding=utf-8\n",
    "\n",
    "#from __future__ import print_function, division\n",
    "\n",
    "import torch\n",
    "import torch.nn as nn\n",
    "import torch.optim as optim\n",
    "import torchvision\n",
    "from torchvision import datasets,transforms,models\n",
    "import matplotlib.pyplot as plt\n",
    "import os\n"
   ]
  },
  {
   "cell_type": "code",
   "execution_count": 8,
   "metadata": {},
   "outputs": [
    {
     "name": "stderr",
     "output_type": "stream",
     "text": [
      "E:\\Anaconda3\\lib\\site-packages\\torchvision\\transforms\\transforms.py:220: UserWarning: The use of the transforms.Scale transform is deprecated, please use transforms.Resize instead.\n",
      "  \"please use transforms.Resize instead.\")\n"
     ]
    }
   ],
   "source": [
    "#数据预处理，data_transforms是字典\n",
    "data_transforms = {\n",
    "    'train': transforms.Compose([   #此函数可以包含多个数据预处理的方法\n",
    "        transforms.Scale(230),    #自适应缩放到最大边长230\n",
    "        transforms.CenterCrop(224),  #居中裁剪224*224\n",
    "        transforms.RandomHorizontalFlip(),  #随机水平翻转，增加训练集多样性\n",
    "        transforms.ToTensor(),  #转化成tensor格式\n",
    "        transforms.Normalize([0.5, 0.5, 0.5], [0.5, 0.5, 0.5])  #均值为0.5，标准差为0.5进行归一化\n",
    "    ]),\n",
    "    'test': transforms.Compose([        #测试数据集\n",
    "        transforms.Scale(256),\n",
    "        transforms.CenterCrop(224),\n",
    "        transforms.ToTensor(),\n",
    "        transforms.Normalize([0.5, 0.5, 0.5], [0.5, 0.5, 0.5])\n",
    "    ]),\n",
    "}\n"
   ]
  },
  {
   "cell_type": "code",
   "execution_count": 9,
   "metadata": {},
   "outputs": [],
   "source": [
    "data_directory = 'Tfldata'   #数据文件夹名\n",
    "#设置数据路径和预处理方法\n",
    "trainset = datasets.ImageFolder(os.path.join(data_directory, 'train'), data_transforms['train'])\n",
    "testset = datasets.ImageFolder(os.path.join(data_directory, 'test'), data_transforms['test'])\n",
    "#加载数据\n",
    "trainloader = torch.utils.data.DataLoader(trainset, batch_size=5,shuffle=True, num_workers=4)\n",
    "testloader = torch.utils.data.DataLoader(testset, batch_size=5,shuffle=True, num_workers=4)"
   ]
  },
  {
   "cell_type": "code",
   "execution_count": 13,
   "metadata": {},
   "outputs": [],
   "source": [
    "#展示随机加载的训练样本\n",
    "# def imshow(inputs):\n",
    "    \n",
    "#     inputs = inputs / 2 + 0.5\n",
    "#     inputs = inputs.numpy().transpose((1, 2, 0))\n",
    "#     print(inputs)\n",
    "#     plt.imshow(inputs)\n",
    "#     plt.show()\n",
    "    \n",
    "# inputs,classes = next(iter(trainloader))\n",
    "\n",
    "# imshow(torchvision.utils.make_grid(inputs))"
   ]
  },
  {
   "cell_type": "code",
   "execution_count": 14,
   "metadata": {},
   "outputs": [
    {
     "name": "stderr",
     "output_type": "stream",
     "text": [
      "Downloading: \"https://download.pytorch.org/models/alexnet-owt-4df8aa71.pth\" to C:\\Users\\ZJ/.cache\\torch\\checkpoints\\alexnet-owt-4df8aa71.pth\n",
      "100%|██████████| 233M/233M [02:28<00:00, 1.64MB/s] \n"
     ]
    }
   ],
   "source": [
    "#导入预设的alexnet模型和参数\n",
    "alexnet = models.alexnet(pretrained=True) \n",
    "#遍历模型中的所有参数，requires_grad = False ，限制参数更新，保持特征提取层不变（卷积层）\n",
    "for param in alexnet.parameters():\n",
    "    param.requires_grad = False \n",
    "    \n",
    "    \n",
    "#重新定义模型的全连接层部分，改为2分类任务\n",
    "alexnet.classifier=nn.Sequential(\n",
    "    nn.Dropout(),\n",
    "    nn.Linear(256*6*6,4096),   #9216*4096\n",
    "    nn.ReLU(inplace =True),\n",
    "    nn.Dropout(),\n",
    "    nn.Linear(4096,4096),\n",
    "    nn.ReLU(inplace=True),\n",
    "    nn.Linear(4096,2),)   #与原来的区别在于最后一层输出改为2\n",
    "\n",
    "CUDA = torch.cuda.is_available()\n",
    "\n",
    "if CUDA:   \n",
    "    alexnet = alexnet.cuda()"
   ]
  },
  {
   "cell_type": "code",
   "execution_count": 15,
   "metadata": {},
   "outputs": [],
   "source": [
    "criterion = nn.CrossEntropyLoss()   #交叉熵函数作为损失函数\n",
    "optimizer = optim.SGD(alexnet.classifier.parameters(), lr=0.001, momentum=0.9)   #优化器为随机梯度下降，只传入全连接层的参数进行优化"
   ]
  },
  {
   "cell_type": "code",
   "execution_count": 19,
   "metadata": {},
   "outputs": [],
   "source": [
    "#\n",
    "def train(model,criterion,optimizer,epochs=1):\n",
    "    for epoch in range(epochs):\n",
    "        running_loss = 0.0\n",
    "        for i, data in enumerate(trainloader,0):   #enumerate将可遍历的数据组合成一个索引序列，并列出数据和下标\n",
    "            inputs,labels = data\n",
    "            if CUDA:\n",
    "                inputs,labels = inputs.cuda(),labels.cuda()\n",
    "            optimizer.zero_grad()\n",
    "            outputs = model(inputs)\n",
    "            loss = criterion(outputs,labels)\n",
    "            loss.backward()\n",
    "            optimizer.step()\n",
    "    \n",
    "            running_loss += loss.item()\n",
    "            if i%10==9:\n",
    "                print('[Epoch:%d, Batch:%5d] Loss: %.3f' % (epoch+1, i+1, running_loss / 100))\n",
    "                running_loss = 0.0\n",
    " \n",
    "    print('Finished Training')"
   ]
  },
  {
   "cell_type": "code",
   "execution_count": 20,
   "metadata": {},
   "outputs": [],
   "source": [
    "def test(testloader,model):\n",
    "    correct = 0\n",
    "    total = 0\n",
    "    for data in testloader:\n",
    "        images, labels = data\n",
    "        if CUDA:\n",
    "            images = images.cuda()\n",
    "            labels = labels.cuda()\n",
    "        outputs = model(images)\n",
    "        _, predicted = torch.max(outputs.data, 1) \n",
    "        total += labels.size(0)\n",
    "        correct += (predicted == labels).sum()\n",
    "    print('Accuracy on the test set: %d %%' % (100 * correct / total))"
   ]
  },
  {
   "cell_type": "code",
   "execution_count": 17,
   "metadata": {},
   "outputs": [],
   "source": [
    "def load_param(model,path):\n",
    "    if os.path.exists(path):\n",
    "        model.load_state_dict(torch.load(path))\n",
    "\n",
    "def save_param(model,path):\n",
    "    torch.save(model.state_dict(),path)\n"
   ]
  },
  {
   "cell_type": "code",
   "execution_count": 22,
   "metadata": {},
   "outputs": [
    {
     "name": "stdout",
     "output_type": "stream",
     "text": [
      "[Epoch:1, Batch:   10] Loss: 0.017\n",
      "[Epoch:1, Batch:   20] Loss: 0.006\n",
      "[Epoch:1, Batch:   30] Loss: 0.000\n",
      "[Epoch:1, Batch:   40] Loss: 0.014\n",
      "[Epoch:1, Batch:   50] Loss: 0.000\n",
      "[Epoch:1, Batch:   60] Loss: 0.002\n",
      "[Epoch:1, Batch:   70] Loss: 0.000\n",
      "[Epoch:1, Batch:   80] Loss: 0.000\n",
      "[Epoch:2, Batch:   10] Loss: 0.001\n",
      "[Epoch:2, Batch:   20] Loss: 0.003\n",
      "[Epoch:2, Batch:   30] Loss: 0.005\n",
      "[Epoch:2, Batch:   40] Loss: 0.003\n",
      "[Epoch:2, Batch:   50] Loss: 0.021\n",
      "[Epoch:2, Batch:   60] Loss: 0.022\n",
      "[Epoch:2, Batch:   70] Loss: 0.015\n",
      "[Epoch:2, Batch:   80] Loss: 0.001\n",
      "[Epoch:3, Batch:   10] Loss: 0.001\n",
      "[Epoch:3, Batch:   20] Loss: 0.005\n",
      "[Epoch:3, Batch:   30] Loss: 0.000\n",
      "[Epoch:3, Batch:   40] Loss: 0.009\n",
      "[Epoch:3, Batch:   50] Loss: 0.020\n",
      "[Epoch:3, Batch:   60] Loss: 0.000\n",
      "[Epoch:3, Batch:   70] Loss: 0.003\n",
      "[Epoch:3, Batch:   80] Loss: 0.001\n",
      "[Epoch:4, Batch:   10] Loss: 0.008\n",
      "[Epoch:4, Batch:   20] Loss: 0.001\n",
      "[Epoch:4, Batch:   30] Loss: 0.000\n",
      "[Epoch:4, Batch:   40] Loss: 0.000\n",
      "[Epoch:4, Batch:   50] Loss: 0.000\n",
      "[Epoch:4, Batch:   60] Loss: 0.000\n",
      "[Epoch:4, Batch:   70] Loss: 0.007\n",
      "[Epoch:4, Batch:   80] Loss: 0.020\n",
      "Finished Training\n",
      "Accuracy on the test set: 96 %\n"
     ]
    }
   ],
   "source": [
    "load_param(alexnet,'tl_model.pkl')\n",
    "\n",
    "train(alexnet,criterion,optimizer,epochs=4)\n",
    "\n",
    "save_param(alexnet,'tl_model.pkl')\n",
    "\n",
    "test(testloader,alexnet)"
   ]
  },
  {
   "cell_type": "code",
   "execution_count": null,
   "metadata": {},
   "outputs": [],
   "source": []
  }
 ],
 "metadata": {
  "kernelspec": {
   "display_name": "Python 3",
   "language": "python",
   "name": "python3"
  },
  "language_info": {
   "codemirror_mode": {
    "name": "ipython",
    "version": 3
   },
   "file_extension": ".py",
   "mimetype": "text/x-python",
   "name": "python",
   "nbconvert_exporter": "python",
   "pygments_lexer": "ipython3",
   "version": "3.6.4"
  }
 },
 "nbformat": 4,
 "nbformat_minor": 2
}
