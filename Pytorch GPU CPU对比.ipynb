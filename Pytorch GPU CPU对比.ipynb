{
 "cells": [
  {
   "cell_type": "code",
   "execution_count": 43,
   "metadata": {},
   "outputs": [],
   "source": [
    "import torch\n",
    "from time import perf_counter\n",
    "X = torch.rand(10000,10000)\n",
    "Y = torch.rand(10000,10000)"
   ]
  },
  {
   "cell_type": "markdown",
   "metadata": {},
   "source": [
    "# CPU计算并记录时间："
   ]
  },
  {
   "cell_type": "code",
   "execution_count": 46,
   "metadata": {},
   "outputs": [
    {
     "name": "stdout",
     "output_type": "stream",
     "text": [
      "CPU计算时间:0.008790200000021287\n"
     ]
    }
   ],
   "source": [
    "start  = perf_counter()\n",
    "X.mm(Y)\n",
    "finish = perf_counter()\n",
    "time = finish - start\n",
    "print(\"CPU计算时间:%s\"%time)"
   ]
  },
  {
   "cell_type": "markdown",
   "metadata": {},
   "source": [
    "# GPU计算并记录时间"
   ]
  },
  {
   "cell_type": "code",
   "execution_count": 45,
   "metadata": {},
   "outputs": [
    {
     "name": "stdout",
     "output_type": "stream",
     "text": [
      "GPU计算时间:0.00037919999999758147\n",
      "CPU计算时间是GPU加速计算时间的13066.696466328027倍\n"
     ]
    }
   ],
   "source": [
    "X = X.cuda()\n",
    "Y = Y.cuda()\n",
    "start  = perf_counter()\n",
    "X.mm(Y)\n",
    "finish = perf_counter()\n",
    "time_cuda = finish - start\n",
    "print(\"GPU计算时间:%s\"%time_cuda)\n",
    "print(\"CPU计算时间是GPU加速计算时间的%s倍\"%str(time/time_cuda))"
   ]
  },
  {
   "cell_type": "code",
   "execution_count": null,
   "metadata": {},
   "outputs": [],
   "source": []
  },
  {
   "cell_type": "code",
   "execution_count": null,
   "metadata": {},
   "outputs": [],
   "source": []
  },
  {
   "cell_type": "code",
   "execution_count": null,
   "metadata": {},
   "outputs": [],
   "source": []
  },
  {
   "cell_type": "code",
   "execution_count": null,
   "metadata": {},
   "outputs": [],
   "source": []
  }
 ],
 "metadata": {
  "kernelspec": {
   "display_name": "Python 3",
   "language": "python",
   "name": "python3"
  },
  "language_info": {
   "codemirror_mode": {
    "name": "ipython",
    "version": 3
   },
   "file_extension": ".py",
   "mimetype": "text/x-python",
   "name": "python",
   "nbconvert_exporter": "python",
   "pygments_lexer": "ipython3",
   "version": "3.6.4"
  }
 },
 "nbformat": 4,
 "nbformat_minor": 2
}
