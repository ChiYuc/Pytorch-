{
 "cells": [
  {
   "cell_type": "code",
   "execution_count": 1,
   "metadata": {},
   "outputs": [],
   "source": [
    "from __future__ import print_function\n",
    "import torch"
   ]
  },
  {
   "cell_type": "code",
   "execution_count": 2,
   "metadata": {},
   "outputs": [
    {
     "name": "stdout",
     "output_type": "stream",
     "text": [
      "tensor([[4.9284e-01, 5.1743e-01, 1.4872e-01],\n",
      "        [3.0702e-01, 3.7694e-04, 3.2635e-01],\n",
      "        [9.8423e-01, 7.6725e-01, 5.0013e-01],\n",
      "        [1.1899e-01, 1.9294e-01, 3.0567e-01],\n",
      "        [2.7404e-01, 5.7456e-01, 5.2955e-01]])\n"
     ]
    }
   ],
   "source": [
    "#张量就是多维数组\n",
    "#构造一个随机初始化的矩阵\n",
    "x = torch.rand(5,3)\n",
    "print(x)"
   ]
  },
  {
   "cell_type": "code",
   "execution_count": 3,
   "metadata": {},
   "outputs": [
    {
     "name": "stdout",
     "output_type": "stream",
     "text": [
      "tensor([[0, 0, 0],\n",
      "        [0, 0, 0],\n",
      "        [0, 0, 0],\n",
      "        [0, 0, 0],\n",
      "        [0, 0, 0]])\n"
     ]
    }
   ],
   "source": [
    "#构造一个初始化为0的矩阵,数据类型为long\n",
    "x = torch.zeros(5,3,dtype=torch.long)\n",
    "print(x)"
   ]
  },
  {
   "cell_type": "code",
   "execution_count": 4,
   "metadata": {},
   "outputs": [
    {
     "name": "stdout",
     "output_type": "stream",
     "text": [
      "tensor([5.5000, 3.0000])\n"
     ]
    }
   ],
   "source": [
    "#直接给定数据构造张量\n",
    "x = torch.tensor([5.5,3])\n",
    "print(x)"
   ]
  },
  {
   "cell_type": "code",
   "execution_count": 5,
   "metadata": {},
   "outputs": [
    {
     "name": "stdout",
     "output_type": "stream",
     "text": [
      "tensor([[1., 1., 1.],\n",
      "        [1., 1., 1.],\n",
      "        [1., 1., 1.],\n",
      "        [1., 1., 1.],\n",
      "        [1., 1., 1.]], dtype=torch.float64)\n",
      "tensor([[ 0.2939, -1.7213,  0.4729],\n",
      "        [-0.8624, -0.4417,  0.1022],\n",
      "        [ 0.3530,  0.6652, -0.3936],\n",
      "        [-0.8312,  0.1587,  1.2410],\n",
      "        [-0.3177, -0.8980,  1.0872]])\n"
     ]
    }
   ],
   "source": [
    "x = x.new_ones(5,3,dtype=torch.double)\n",
    "print(x)\n",
    "#构建与输入张量同样大小的张量\n",
    "x = torch.randn_like(x,dtype=torch.float)\n",
    "print(x)"
   ]
  },
  {
   "cell_type": "code",
   "execution_count": 6,
   "metadata": {},
   "outputs": [
    {
     "name": "stdout",
     "output_type": "stream",
     "text": [
      "torch.Size([5, 3])\n"
     ]
    }
   ],
   "source": [
    "#获取张量的大小，结果torch.Size是个元组，支持元组相关操作\n",
    "print(x.size())"
   ]
  },
  {
   "cell_type": "code",
   "execution_count": 5,
   "metadata": {},
   "outputs": [
    {
     "name": "stdout",
     "output_type": "stream",
     "text": [
      "tensor([[1., 1., 1.],\n",
      "        [1., 1., 1.],\n",
      "        [1., 1., 1.],\n",
      "        [1., 1., 1.],\n",
      "        [1., 1., 1.]])\n",
      "tensor([[1., 1., 1.],\n",
      "        [1., 1., 1.],\n",
      "        [1., 1., 1.],\n",
      "        [1., 1., 1.],\n",
      "        [1., 1., 1.]])\n"
     ]
    }
   ],
   "source": [
    "#张量相加\n",
    "x = torch.zeros(5,3)\n",
    "y = torch.ones(5,3)\n",
    "print(x + y)\n",
    "#使用torch.add()函数\n",
    "print(torch.add(x,y))"
   ]
  },
  {
   "cell_type": "code",
   "execution_count": 6,
   "metadata": {},
   "outputs": [
    {
     "name": "stdout",
     "output_type": "stream",
     "text": [
      "tensor([[1., 1., 1.],\n",
      "        [1., 1., 1.],\n",
      "        [1., 1., 1.],\n",
      "        [1., 1., 1.],\n",
      "        [1., 1., 1.]])\n"
     ]
    }
   ],
   "source": [
    "#输出相加的张量也可以：\n",
    "result = torch.empty(5,3)\n",
    "torch.add(x,y,out=result)\n",
    "print(result)"
   ]
  },
  {
   "cell_type": "code",
   "execution_count": 7,
   "metadata": {},
   "outputs": [
    {
     "name": "stdout",
     "output_type": "stream",
     "text": [
      "tensor([[1., 1., 1.],\n",
      "        [1., 1., 1.],\n",
      "        [1., 1., 1.],\n",
      "        [1., 1., 1.],\n",
      "        [1., 1., 1.]])\n"
     ]
    }
   ],
   "source": [
    "#把x加到y上,所有改变tensor内容的操作都会在方法名后加一个下划线 '_'\n",
    "y.add_(x)\n",
    "print(y)"
   ]
  },
  {
   "cell_type": "code",
   "execution_count": 8,
   "metadata": {},
   "outputs": [
    {
     "name": "stdout",
     "output_type": "stream",
     "text": [
      "tensor([0., 0., 0., 0., 0.])\n"
     ]
    }
   ],
   "source": [
    "#可以使用numpy所有标准操作，比如切片\n",
    "print(x[:,1])  #输出第二列"
   ]
  },
  {
   "cell_type": "code",
   "execution_count": 9,
   "metadata": {},
   "outputs": [
    {
     "name": "stdout",
     "output_type": "stream",
     "text": [
      "torch.Size([4, 4]) torch.Size([16]) torch.Size([2, 8])\n"
     ]
    }
   ],
   "source": [
    "#可以用torch.view来调整张量大小\n",
    "a = torch.randn(4,4)\n",
    "b = a.view(16)\n",
    "c = a.view(-1,8)  #-1表示从其他维度推断\n",
    "print(a.size(),b.size(),c.size())"
   ]
  },
  {
   "cell_type": "code",
   "execution_count": 10,
   "metadata": {},
   "outputs": [
    {
     "name": "stdout",
     "output_type": "stream",
     "text": [
      "tensor([-0.2623])\n",
      "-0.2622828781604767\n"
     ]
    }
   ],
   "source": [
    "#如果有一个张量，可以使用.item（）得到一个Python数\n",
    "d = torch.randn(1)\n",
    "print(d)\n",
    "print(d.item())"
   ]
  },
  {
   "cell_type": "code",
   "execution_count": 11,
   "metadata": {},
   "outputs": [
    {
     "name": "stdout",
     "output_type": "stream",
     "text": [
      "tensor([1., 1., 1., 1., 1.]) [1. 1. 1. 1. 1.]\n"
     ]
    }
   ],
   "source": [
    "#numpy和tensor之间互相转换,numpy和tensor是共享储存空间的，修改一个会导致另一个也被修改\n",
    "a = torch.ones(5)\n",
    "b = a.numpy()\n",
    "print(a,b)\n"
   ]
  },
  {
   "cell_type": "code",
   "execution_count": 12,
   "metadata": {},
   "outputs": [
    {
     "name": "stdout",
     "output_type": "stream",
     "text": [
      "tensor([2., 2., 2., 2., 2.]) [2. 2. 2. 2. 2.]\n"
     ]
    }
   ],
   "source": [
    "#修改a,b也会跟随改变\n",
    "a.add_(1)\n",
    "print(a,b)"
   ]
  },
  {
   "cell_type": "code",
   "execution_count": 13,
   "metadata": {},
   "outputs": [],
   "source": [
    "import numpy as np\n",
    "a = np.ones(5)\n",
    "b = torch.Tensor(a)  #numpy转tensor、\n"
   ]
  },
  {
   "cell_type": "markdown",
   "metadata": {},
   "source": [
    "CPU上的所有Tensor除了CharTensor，都支持与numpy之间的互相转换\n",
    "CUDA Tensor 通过.to可以被转移到任何设备"
   ]
  },
  {
   "cell_type": "code",
   "execution_count": 14,
   "metadata": {},
   "outputs": [
    {
     "name": "stdout",
     "output_type": "stream",
     "text": [
      "tensor([[-0.1294,  1.8767,  0.9693, -0.7512,  1.2836],\n",
      "        [-0.5177,  0.1082,  1.7519, -0.2295,  0.9434],\n",
      "        [ 1.9005,  0.1620,  2.6186,  0.6424, -1.2304],\n",
      "        [ 0.8798,  0.3009,  0.9205,  1.7988,  1.4602],\n",
      "        [ 2.0656,  0.0195,  0.5517,  1.8487,  0.3720]], device='cuda:0')\n",
      "tensor([[-0.1294,  1.8767,  0.9693, -0.7512,  1.2836],\n",
      "        [-0.5177,  0.1082,  1.7519, -0.2295,  0.9434],\n",
      "        [ 1.9005,  0.1620,  2.6186,  0.6424, -1.2304],\n",
      "        [ 0.8798,  0.3009,  0.9205,  1.7988,  1.4602],\n",
      "        [ 2.0656,  0.0195,  0.5517,  1.8487,  0.3720]], dtype=torch.float64)\n"
     ]
    }
   ],
   "source": [
    "x = torch.randn(5,5)\n",
    "if torch.cuda.is_available():\n",
    "    device = torch.device(\"cuda\")\n",
    "    y = torch.ones_like(x,device = device)\n",
    "    x = x.to(device)   #把 X 从CPU移动到GPU\n",
    "    z = x + y\n",
    "    print(z)\n",
    "    print(z.to(\"cpu\",torch.double)) #把 Z 从GPU移动到CPU"
   ]
  },
  {
   "cell_type": "code",
   "execution_count": 16,
   "metadata": {},
   "outputs": [
    {
     "data": {
      "text/plain": [
       "tensor([[ 89.,  96., 102.],\n",
       "        [212., 231., 246.],\n",
       "        [335., 366., 390.]])"
      ]
     },
     "execution_count": 16,
     "metadata": {},
     "output_type": "execute_result"
    }
   ],
   "source": [
    "a=torch.Tensor([[1,2,3],[4,5,6],[7,8,9]])\n",
    "b=torch.Tensor([[10,12,13],[14,15,16],[17,18,19]])\n",
    "torch.mm(a,b)"
   ]
  },
  {
   "cell_type": "code",
   "execution_count": null,
   "metadata": {},
   "outputs": [],
   "source": []
  }
 ],
 "metadata": {
  "kernelspec": {
   "display_name": "Python 3",
   "language": "python",
   "name": "python3"
  },
  "language_info": {
   "codemirror_mode": {
    "name": "ipython",
    "version": 3
   },
   "file_extension": ".py",
   "mimetype": "text/x-python",
   "name": "python",
   "nbconvert_exporter": "python",
   "pygments_lexer": "ipython3",
   "version": "3.6.4"
  }
 },
 "nbformat": 4,
 "nbformat_minor": 2
}
